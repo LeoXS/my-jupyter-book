{
 "cells": [
  {
   "cell_type": "code",
   "execution_count": 6,
   "metadata": {},
   "outputs": [
    {
     "name": "stdout",
     "output_type": "stream",
     "text": [
      "The color of the sky can vary depending on the time of day and atmospheric conditions.\n",
      "\n",
      " During a clear day, the sky appears blue to our eyes because of a phenomenon called Rayleigh scattering. When sunlight enters Earth's atmosphere, it encounters tiny molecules of gases such as nitrogen and oxygen. These molecules scatter the shorter (blue) wavelengths of light more than the longer (red) wavelengths, giving the sky its blue color.\n",
      "\n",
      " However, the color of the sky can change under different conditions:\n",
      "\n",
      " 1. **Sunrise and sunset:** The sky often takes on hues of orange, pink, and red during these times due to the scattering of sunlight by atmospheric particles and water vapor.\n",
      " 2. **Cloudy days:** A cloudy sky appears gray or white because the clouds scatter light in all directions, reducing the amount of direct sunlight that reaches our eyes.\n",
      " 3. **Nighttime:** The stars and moon can make the night sky appear dark blue or indigo.\n",
      " 4. **Atmospheric conditions:** Dust, pollution, and water vapor in the air can also alter the color of the sky.\n",
      "\n",
      " So, to answer your question, the color of the sky is typically blue, but it can vary depending on the time of day and atmospheric conditions.\n"
     ]
    }
   ],
   "source": [
    "import ollama\n",
    "\n",
    "# 创建同步客户端\n",
    "client = ollama.Client(host='http://localhost:11434')\n",
    "\n",
    "response = client.chat(\n",
    "    model='llama3.2',\n",
    "    messages=[{\n",
    "        'role': 'user',\n",
    "        'content': \"What's the color of sky\"\n",
    "    }]\n",
    ")\n",
    "\n",
    "print(response.message.content)"
   ]
  },
  {
   "cell_type": "code",
   "execution_count": 8,
   "metadata": {},
   "outputs": [
    {
     "name": "stdout",
     "output_type": "stream",
     "text": [
      "生成的故事: 有一次，两个人去山上滑雪，遇到大snowstorm，但他们还是坚持不懈地继续前行。直到最后，他们才回家。\n",
      "\n",
      "第二天，两个人再度在一起去滑雪，但是这次他们是因为寒冷的原因被送回家了。\n",
      "\n",
      "第三天，两个人再度去滑雪，但是这次他们又遇到了大snowstorm。但是这次他们并不感到惊讶，因为他们已经多次经历过这种情况。\n",
      "\n",
      "最后，他们决定放弃滑雪，选择去喝热茶和聊天。他们发现，这个 snowy天的最美丽之处不是在雪下， sondern是在一起聊天、分享笑点和故事。\n"
     ]
    }
   ],
   "source": [
    "# 简单的文本生成\n",
    "response = client.generate(model='llama3.2', \n",
    "                            prompt='讲一个关于友谊的小故事',\n",
    "                            stream=False)\n",
    "print(\"生成的故事:\", response['response'])"
   ]
  },
  {
   "cell_type": "code",
   "execution_count": 10,
   "metadata": {},
   "outputs": [
    {
     "name": "stdout",
     "output_type": "stream",
     "text": [
      "人工智能（Artificial Intelligence，简称AI）是一种由计算机系统模拟和解释人类智慧和行为的技术。人工智能的发展历史可以分为几个阶段：\n",
      "\n",
      "1. **1950年代-1960年代：早期研究**\n",
      "\n",
      " 人工智能的概念首次出现于1950年代末，尤其是在美国的麻省理工学院（MIT）和加州大学伯克利分校。早期研究者，如阿尔弗RED·布里彻斯、唐纳德·亨特和马塞尔·莫洛特等人，探索了计算机系统如何模拟人类认知过程。\n",
      "\n",
      "2. **1970年代-1980年代：知识图库和 Rule-Based Systems**\n",
      "\n",
      " 1970年代和80年代，人工智能研究重点转移到知识图库（Knowledge Graph）和规则基于系统的设计。这种方法假设了一个可理解世界模型，并使用规则来模拟人类决策过程。\n",
      "\n",
      "3. **1990年代-2000年代：神经网络**\n",
      "\n",
      " 1990年代后期，人工智能研究重组为神经网络（Neural Networks），这是一个复杂的计算机算法，该算法模拟了大脑中的神经元行为。神经网络在各种应用中取得了成功，例如图像识别和自然语言处理。\n",
      "\n",
      "4. **2000年代-2010年代：深度学习**\n",
      "\n",
      " 2000年代后期，人工智能研究重组为深度学习（Deep Learning），这是一个特定的类型的神经网络。深度学习使用大量计算机 POWER和高-performance GPU来Training复杂的神经网络模型。这导致了人工智能在图像识别、自然语言处理和自动驾驶等领域取得了突破。\n",
      "\n",
      "5. **2010年代-present：现实应用**\n",
      "\n",
      " 2010年代后期，人工智能开始被广泛应用于各种行业。例如，自动驾驶技术、语音识别、人工智能 assistants（如 Siri 和 Alexa）等。人工智能还被用来解决复杂问题，如 climate modeling、 healthcare 和 finance。\n",
      "\n",
      "6. **现今发展：强化学习和 Transformer**\n",
      "\n",
      " 现在，人工智能研究重点转移到强化学习（Reinforcement Learning）和Transformer技术上。强化学习是一种方法，它使机器学习从环境反馈中学 hỏi，实现目标的最优策略。Transformer是传统序列处理模型的一个替代方案，它能够有效地处理长文本数据。\n",
      "\n",
      "总的来说，人工智能发展史是一个不断的进步，每个阶段都有新的技术和方法出现，推动了人工智能的发展和应用。"
     ]
    }
   ],
   "source": [
    "# 流式生成示例\n",
    "for chunk in client.generate(model='llama3.2',\n",
    "                            prompt='介绍一下人工智能的发展历史',\n",
    "                            stream=True):\n",
    "    print(chunk['response'], end='', flush=True)"
   ]
  }
 ],
 "metadata": {
  "kernelspec": {
   "display_name": "my-venv",
   "language": "python",
   "name": "python3"
  },
  "language_info": {
   "codemirror_mode": {
    "name": "ipython",
    "version": 3
   },
   "file_extension": ".py",
   "mimetype": "text/x-python",
   "name": "python",
   "nbconvert_exporter": "python",
   "pygments_lexer": "ipython3",
   "version": "3.10.12"
  }
 },
 "nbformat": 4,
 "nbformat_minor": 2
}
