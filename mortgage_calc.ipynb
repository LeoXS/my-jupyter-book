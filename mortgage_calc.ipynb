{
 "cells": [
  {
   "cell_type": "markdown",
   "metadata": {},
   "source": [
    "## Requirements\n",
    "\n",
    "### Morgage (07)\n",
    "\n",
    "- End in 30.05.2025\n",
    "- Remaining amount 86501.38\n",
    "\n",
    "### KfW (08)\n",
    "\n",
    "- Zinsbindung bis 30.06.2025 \n",
    "- Remaining amount 35779.77\n",
    "\n",
    "### KfW (09)\n",
    "\n",
    "- Zinsbindung bis 30.06.2025 \n",
    "- Remaining amount 38909.04\n",
    "\n",
    "## 贷款条款\n",
    "\n",
    "1. Ending dates of three loans are differnt, what will happen then?\n",
    "2. What's the cost of re-financing?\n",
    "3. 5 years or 10 years?\n",
    "   如果是十年的话那我就要考虑额外还款。我更倾向于长期的贷款调节的条款和中的额外还款。\n",
    "   如果贷款期限较长（超过10年），德国法律允许在10年后提前终止贷款，且无需支付违约金（根据德国民法典第489条）。\n",
    "4. 银行提供利率是根据当前房屋的市场价值还是10年前购买房屋的价值？\n",
    "4. 调节还款率的话\n",
    "   1. 会影响利率吗？\n",
    "   2. 需要支付额外的费用吗？\n",
    "5. 选择不同银行。Umschuldung（转贷）\n",
    "   1. 贷款转移Anschlussfinanzierung的风险和支出\n",
    "      1. 房产抵押权（Grundschuld）通常登记在原银行名下。如果更换银行，需要将房产抵押权转移到新银行名下。Grundbuchumschreibungskosten。公证费和土地登记费（Grundbuchamt）通常占贷款金额的0.2%-0.5%。\n",
    "   2. 时间成本与手续复杂性\n",
    "      重新评估房产价值（Immobilienbewertung）、以及处理抵押权转移等。\n",
    "   3. 如何减少风险和支出\n",
    "      1. 协商抵押权转移（Grundschuldabtretung）：与新银行商量是否可以接受将现有抵押权直接转移，而非重新登记。这种操作通常比重新设立抵押权（Neubestellung der Grundschuld）更省时省钱。\n",
    "6. 转银行费用总结\n",
    "   - 提前还款费用（如适用）\t视原合同条款而定（几千欧元）\n",
    "   - 抵押权转移费用\t600-1500欧元\n",
    "   - 新银行评估费用（如有）\t约300-1000欧元\n",
    "   - 公证费和土地登记费\t总费用约为贷款金额的0.2%-0.5%\n",
    "7. kfw贷款如何处理？\n",
    "   1. ING可以接受转贷或者续贷。kfw会在4周内给出续贷利率。ING可以当前报价，需要提交申请。\n",
    "\n",
    "\n",
    "## 卖出房屋\n",
    "\n",
    "1. 贷款没有还完的部分如何处理？\n",
    "   - 按照Vorfälligkeitsentschädigung的条款计算给银行的赔偿\n",
    "   - 如果买家愿意接受Darlehensübertragung贷款转移，从而避免提前还款的费用"
   ]
  },
  {
   "cell_type": "code",
   "execution_count": 1,
   "metadata": {},
   "outputs": [],
   "source": [
    "from tabulate import tabulate\n",
    "\n",
    "def get_total_amount() -> float:\n",
    "    \"\"\"\n",
    "    Get the total amount of the loan from user input.\n",
    "    \"\"\"\n",
    "    return 86501.38 + 35779.77 + 38909.04\n",
    "\n",
    "def calculate_mortgage_payment(loan_amount, annual_interest_rate, annual_payment_ratio, num_years):\n",
    "    \"\"\"\n",
    "    Calculate mortgage payments based on annual payment ratio.\n",
    "    \n",
    "    Parameters:\n",
    "    loan_amount (float): Total amount of the loan\n",
    "    annual_interest_rate (float): Annual interest rate as a percentage (e.g., 5.5 for 5.5%)\n",
    "    annual_payment_ratio (float): Annual payment as a percentage of loan amount (e.g., 10 for 10%)\n",
    "    num_years (int): Total number of years for the loan\n",
    "    \n",
    "    Returns:\n",
    "    str: Formatted table showing payment details\n",
    "    \"\"\"\n",
    "    # Calculate annual payment based on ratio\n",
    "    annual_payment = loan_amount * (annual_payment_ratio / 100)\n",
    "    monthly_payment = annual_payment / 12\n",
    "    \n",
    "    # Convert annual interest rate to monthly rate\n",
    "    monthly_rate = (annual_interest_rate / 100) / 12\n",
    "    \n",
    "    # Calculate total payments\n",
    "    total_payments = annual_payment * num_years\n",
    "    total_interest = 0\n",
    "    remaining_balance = loan_amount\n",
    "    \n",
    "    # Calculate amortization and total interest\n",
    "    for year in range(num_years):\n",
    "        yearly_interest = 0\n",
    "        for month in range(12):\n",
    "            # Calculate monthly interest\n",
    "            month_interest = remaining_balance * monthly_rate\n",
    "            yearly_interest += month_interest\n",
    "            \n",
    "            # Calculate principal portion\n",
    "            principal = monthly_payment - month_interest\n",
    "            \n",
    "            # Update remaining balance\n",
    "            remaining_balance -= principal\n",
    "            \n",
    "        total_interest += yearly_interest\n",
    "    \n",
    "    # Prepare data for table\n",
    "    table_data = [\n",
    "        [\"Loan Amount\", f\"${loan_amount:,.2f}\"],\n",
    "        [\"Annual Interest Rate\", f\"{annual_interest_rate}%\"],\n",
    "        [\"Annual Payment Ratio\", f\"{annual_payment_ratio}%\"],\n",
    "        [\"Annual Payment Amount\", f\"${annual_payment:,.2f}\"],\n",
    "        [\"Monthly Payment\", f\"${monthly_payment:,.2f}\"],\n",
    "        [\"Loan Term\", f\"{num_years} years\"],\n",
    "        [\"Total Payment\", f\"${total_payments:,.2f}\"],\n",
    "        [\"Total Interest\", f\"${total_interest:,.2f}\"],\n",
    "        [\"Final Balance\", f\"${remaining_balance:,.2f}\"],\n",
    "        [\"Ratio of Interest to Principal\", f\"{total_interest / total_payments:.2%}\"]\n",
    "    ]\n",
    "    \n",
    "    # Create formatted table\n",
    "    table = tabulate(table_data, headers=[\"Item\", \"Value\"], \n",
    "                    tablefmt=\"grid\", colalign=(\"left\", \"right\"))\n",
    "    \n",
    "    return table\n"
   ]
  },
  {
   "cell_type": "markdown",
   "metadata": {},
   "source": [
    "## Pay Interest Rate Only (Reference)"
   ]
  },
  {
   "cell_type": "code",
   "execution_count": 2,
   "metadata": {},
   "outputs": [
    {
     "name": "stdout",
     "output_type": "stream",
     "text": [
      "+--------------------------------+-------------+\n",
      "| Item                           |       Value |\n",
      "+================================+=============+\n",
      "| Loan Amount                    | $161,190.19 |\n",
      "+--------------------------------+-------------+\n",
      "| Annual Interest Rate           |        3.0% |\n",
      "+--------------------------------+-------------+\n",
      "| Annual Payment Ratio           |        3.0% |\n",
      "+--------------------------------+-------------+\n",
      "| Annual Payment Amount          |   $4,835.71 |\n",
      "+--------------------------------+-------------+\n",
      "| Monthly Payment                |     $402.98 |\n",
      "+--------------------------------+-------------+\n",
      "| Loan Term                      |    10 years |\n",
      "+--------------------------------+-------------+\n",
      "| Total Payment                  |  $48,357.06 |\n",
      "+--------------------------------+-------------+\n",
      "| Total Interest                 |  $48,357.06 |\n",
      "+--------------------------------+-------------+\n",
      "| Final Balance                  | $161,190.19 |\n",
      "+--------------------------------+-------------+\n",
      "| Ratio of Interest to Principal |     100.00% |\n",
      "+--------------------------------+-------------+\n"
     ]
    }
   ],
   "source": [
    "\n",
    "result = calculate_mortgage_payment(\n",
    "    loan_amount=get_total_amount(),          # Total amount borrowed for the mortgage\n",
    "    annual_interest_rate=3.0,    # Annual interest rate as a percentage\n",
    "    annual_payment_ratio=3.0,    # Ratio of annual payments to loan amount\n",
    "    num_years=10                 # Length of mortgage term in years\n",
    ")\n",
    "\n",
    "print(result)"
   ]
  },
  {
   "cell_type": "markdown",
   "metadata": {},
   "source": [
    "##  ING Official Offer 3.15%"
   ]
  },
  {
   "cell_type": "code",
   "execution_count": 3,
   "metadata": {},
   "outputs": [
    {
     "name": "stdout",
     "output_type": "stream",
     "text": [
      "+--------------------------------+-------------+\n",
      "| Item                           |       Value |\n",
      "+================================+=============+\n",
      "| Loan Amount                    | $161,190.19 |\n",
      "+--------------------------------+-------------+\n",
      "| Annual Interest Rate           |       3.15% |\n",
      "+--------------------------------+-------------+\n",
      "| Annual Payment Ratio           |        7.5% |\n",
      "+--------------------------------+-------------+\n",
      "| Annual Payment Amount          |  $12,089.26 |\n",
      "+--------------------------------+-------------+\n",
      "| Monthly Payment                |   $1,007.44 |\n",
      "+--------------------------------+-------------+\n",
      "| Loan Term                      |    10 years |\n",
      "+--------------------------------+-------------+\n",
      "| Total Payment                  | $120,892.64 |\n",
      "+--------------------------------+-------------+\n",
      "| Total Interest                 |  $38,600.27 |\n",
      "+--------------------------------+-------------+\n",
      "| Final Balance                  |  $78,897.82 |\n",
      "+--------------------------------+-------------+\n",
      "| Ratio of Interest to Principal |      31.93% |\n",
      "+--------------------------------+-------------+\n"
     ]
    }
   ],
   "source": [
    "result = calculate_mortgage_payment(\n",
    "    loan_amount=get_total_amount(),          # Total amount borrowed for the mortgage\n",
    "    annual_interest_rate=3.15,    # Annual interest rate as a percentage\n",
    "    annual_payment_ratio=7.5,    # Ratio of annual payments to loan amount\n",
    "    num_years=10                 # Length of mortgage term in years\n",
    ")\n",
    "\n",
    "print(result)"
   ]
  },
  {
   "cell_type": "markdown",
   "metadata": {},
   "source": [
    "## Interest Rate 0.1% Lower (1.5k EUR)"
   ]
  },
  {
   "cell_type": "code",
   "execution_count": 4,
   "metadata": {},
   "outputs": [
    {
     "name": "stdout",
     "output_type": "stream",
     "text": [
      "+--------------------------------+-------------+\n",
      "| Item                           |       Value |\n",
      "+================================+=============+\n",
      "| Loan Amount                    | $161,190.19 |\n",
      "+--------------------------------+-------------+\n",
      "| Annual Interest Rate           |       3.05% |\n",
      "+--------------------------------+-------------+\n",
      "| Annual Payment Ratio           |        7.5% |\n",
      "+--------------------------------+-------------+\n",
      "| Annual Payment Amount          |  $12,089.26 |\n",
      "+--------------------------------+-------------+\n",
      "| Monthly Payment                |   $1,007.44 |\n",
      "+--------------------------------+-------------+\n",
      "| Loan Term                      |    10 years |\n",
      "+--------------------------------+-------------+\n",
      "| Total Payment                  | $120,892.64 |\n",
      "+--------------------------------+-------------+\n",
      "| Total Interest                 |  $37,145.32 |\n",
      "+--------------------------------+-------------+\n",
      "| Final Balance                  |  $77,442.86 |\n",
      "+--------------------------------+-------------+\n",
      "| Ratio of Interest to Principal |      30.73% |\n",
      "+--------------------------------+-------------+\n"
     ]
    }
   ],
   "source": [
    "result = calculate_mortgage_payment(\n",
    "    loan_amount=get_total_amount(),          # Total amount borrowed for the mortgage\n",
    "    annual_interest_rate=3.05,    # Annual interest rate as a percentage\n",
    "    annual_payment_ratio=7.5,    # Ratio of annual payments to loan amount\n",
    "    num_years=10                 # Length of mortgage term in years\n",
    ")\n",
    "\n",
    "print(result)"
   ]
  },
  {
   "cell_type": "markdown",
   "metadata": {},
   "source": [
    "0.1% -> 1.5k EUR, after tax 1k EUR difference"
   ]
  }
 ],
 "metadata": {
  "kernelspec": {
   "display_name": "my-venv",
   "language": "python",
   "name": "python3"
  },
  "language_info": {
   "codemirror_mode": {
    "name": "ipython",
    "version": 3
   },
   "file_extension": ".py",
   "mimetype": "text/x-python",
   "name": "python",
   "nbconvert_exporter": "python",
   "pygments_lexer": "ipython3",
   "version": "3.10.12"
  }
 },
 "nbformat": 4,
 "nbformat_minor": 4
}
