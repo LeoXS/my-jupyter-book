{
 "cells": [
  {
   "cell_type": "code",
   "execution_count": null,
   "metadata": {},
   "outputs": [],
   "source": [
    "## Chat Completions接口\n",
    "\n",
    "- 支持多轮对话\n",
    "- 使用角色系统（user、assistant、system）\n",
    "- 主要用于对话场景\n",
    "- 支持函数调用和工具使用\n",
    "\n",
    "其他：Completions（传统接口，已不推荐使用）\n"
   ]
  },
  {
   "cell_type": "code",
   "execution_count": null,
   "metadata": {},
   "outputs": [],
   "source": [
    "from openai import OpenAI\n",
    "\n",
    "# 创建客户端\n",
    "# 注意: base_url 指向 Ollama 的 OpenAI 兼容接口\n",
    "client = OpenAI(\n",
    "    base_url=\"http://localhost:11434/v1\",\n",
    "    # 不需要真实的 API key，但需要设置一个非空值\n",
    "    api_key=\"ollama\"\n",
    ")\n",
    "\n",
    "def chat_completion_example():\n",
    "    \"\"\"使用 chat completions 接口\"\"\"\n",
    "    response = client.chat.completions.create(\n",
    "        model=\"llama3.2\",  # 使用已安装的 Ollama 模型\n",
    "        messages=[\n",
    "            {\"role\": \"system\", \"content\": \"你是一个帮助用户解答问题的AI助手。\"},\n",
    "            {\"role\": \"user\", \"content\": \"Python中如何打开文件？\"}\n",
    "        ],\n",
    "        temperature=0.7,\n",
    "    )\n",
    "    print(\"Chat response:\", response.choices[0].message.content)\n",
    "\n",
    "chat_completion_example()"
   ]
  },
  {
   "cell_type": "code",
   "execution_count": null,
   "metadata": {},
   "outputs": [],
   "source": [
    "def streaming_chat_example():\n",
    "    \"\"\"流式输出示例\"\"\"\n",
    "    stream = client.chat.completions.create(\n",
    "        model=\"llama3.2\",\n",
    "        messages=[\n",
    "            {\"role\": \"user\", \"content\": \"给我讲个故事\"}\n",
    "        ],\n",
    "        stream=True  # 启用流式输出\n",
    "    )\n",
    "    \n",
    "    print(\"Streaming response:\")\n",
    "    for chunk in stream:\n",
    "        if chunk.choices[0].delta.content is not None:\n",
    "            print(chunk.choices[0].delta.content, end=\"\", flush=True)\n",
    "    print()\n",
    "\n",
    "\n",
    "streaming_chat_example()"
   ]
  }
 ],
 "metadata": {
  "kernelspec": {
   "display_name": "Python (my-venv)",
   "language": "python",
   "name": "my-venv"
  },
  "language_info": {
   "codemirror_mode": {
    "name": "ipython",
    "version": 3
   },
   "file_extension": ".py",
   "mimetype": "text/x-python",
   "name": "python",
   "nbconvert_exporter": "python",
   "pygments_lexer": "ipython3",
   "version": "3.10.12"
  }
 },
 "nbformat": 4,
 "nbformat_minor": 2
}
